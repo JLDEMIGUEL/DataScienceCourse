{
 "cells": [
  {
   "cell_type": "markdown",
   "source": [
    "# Logistic Regression"
   ],
   "metadata": {
    "collapsed": false
   }
  },
  {
   "cell_type": "code",
   "execution_count": 1,
   "metadata": {
    "collapsed": true
   },
   "outputs": [],
   "source": [
    "import pandas as pd\n",
    "import numpy as np"
   ]
  },
  {
   "cell_type": "code",
   "execution_count": 2,
   "outputs": [
    {
     "data": {
      "text/plain": "   Reason_1  Reason_2  Reason_3  Reason_4  Month Value  Weekday  \\\n0         0         0         0         1            7        1   \n1         0         0         0         0            7        1   \n2         0         0         0         1            7        2   \n3         1         0         0         0            7        3   \n4         0         0         0         1            7        3   \n\n   Transportation Expense  Distance to Work  Age  Daily Work Load Average  \\\n0                     289                36   33                  239.554   \n1                     118                13   50                  239.554   \n2                     179                51   38                  239.554   \n3                     279                 5   39                  239.554   \n4                     289                36   33                  239.554   \n\n   Body Mass Index  Education  Children  Pets  Absenteeism Time in Hours  \n0               30          0         2     1                          4  \n1               31          0         1     0                          0  \n2               31          0         0     0                          2  \n3               24          0         2     0                          4  \n4               30          0         2     1                          2  ",
      "text/html": "<div>\n<style scoped>\n    .dataframe tbody tr th:only-of-type {\n        vertical-align: middle;\n    }\n\n    .dataframe tbody tr th {\n        vertical-align: top;\n    }\n\n    .dataframe thead th {\n        text-align: right;\n    }\n</style>\n<table border=\"1\" class=\"dataframe\">\n  <thead>\n    <tr style=\"text-align: right;\">\n      <th></th>\n      <th>Reason_1</th>\n      <th>Reason_2</th>\n      <th>Reason_3</th>\n      <th>Reason_4</th>\n      <th>Month Value</th>\n      <th>Weekday</th>\n      <th>Transportation Expense</th>\n      <th>Distance to Work</th>\n      <th>Age</th>\n      <th>Daily Work Load Average</th>\n      <th>Body Mass Index</th>\n      <th>Education</th>\n      <th>Children</th>\n      <th>Pets</th>\n      <th>Absenteeism Time in Hours</th>\n    </tr>\n  </thead>\n  <tbody>\n    <tr>\n      <th>0</th>\n      <td>0</td>\n      <td>0</td>\n      <td>0</td>\n      <td>1</td>\n      <td>7</td>\n      <td>1</td>\n      <td>289</td>\n      <td>36</td>\n      <td>33</td>\n      <td>239.554</td>\n      <td>30</td>\n      <td>0</td>\n      <td>2</td>\n      <td>1</td>\n      <td>4</td>\n    </tr>\n    <tr>\n      <th>1</th>\n      <td>0</td>\n      <td>0</td>\n      <td>0</td>\n      <td>0</td>\n      <td>7</td>\n      <td>1</td>\n      <td>118</td>\n      <td>13</td>\n      <td>50</td>\n      <td>239.554</td>\n      <td>31</td>\n      <td>0</td>\n      <td>1</td>\n      <td>0</td>\n      <td>0</td>\n    </tr>\n    <tr>\n      <th>2</th>\n      <td>0</td>\n      <td>0</td>\n      <td>0</td>\n      <td>1</td>\n      <td>7</td>\n      <td>2</td>\n      <td>179</td>\n      <td>51</td>\n      <td>38</td>\n      <td>239.554</td>\n      <td>31</td>\n      <td>0</td>\n      <td>0</td>\n      <td>0</td>\n      <td>2</td>\n    </tr>\n    <tr>\n      <th>3</th>\n      <td>1</td>\n      <td>0</td>\n      <td>0</td>\n      <td>0</td>\n      <td>7</td>\n      <td>3</td>\n      <td>279</td>\n      <td>5</td>\n      <td>39</td>\n      <td>239.554</td>\n      <td>24</td>\n      <td>0</td>\n      <td>2</td>\n      <td>0</td>\n      <td>4</td>\n    </tr>\n    <tr>\n      <th>4</th>\n      <td>0</td>\n      <td>0</td>\n      <td>0</td>\n      <td>1</td>\n      <td>7</td>\n      <td>3</td>\n      <td>289</td>\n      <td>36</td>\n      <td>33</td>\n      <td>239.554</td>\n      <td>30</td>\n      <td>0</td>\n      <td>2</td>\n      <td>1</td>\n      <td>2</td>\n    </tr>\n  </tbody>\n</table>\n</div>"
     },
     "execution_count": 2,
     "metadata": {},
     "output_type": "execute_result"
    }
   ],
   "source": [
    "data_preprocessed = pd.read_csv('../../docs/Absenteeism_preprocessed.csv')\n",
    "data_preprocessed.head()"
   ],
   "metadata": {
    "collapsed": false
   }
  },
  {
   "cell_type": "markdown",
   "source": [
    "### Create targets"
   ],
   "metadata": {
    "collapsed": false
   }
  },
  {
   "cell_type": "code",
   "execution_count": 3,
   "outputs": [],
   "source": [
    "targets = np.where(data_preprocessed['Absenteeism Time in Hours'] > data_preprocessed['Absenteeism Time in Hours'].median()\n",
    ", 1, 0)"
   ],
   "metadata": {
    "collapsed": false
   }
  },
  {
   "cell_type": "code",
   "execution_count": 4,
   "outputs": [
    {
     "data": {
      "text/plain": "   Reason_1  Reason_2  Reason_3  Reason_4  Month Value  Weekday  \\\n0         0         0         0         1            7        1   \n1         0         0         0         0            7        1   \n2         0         0         0         1            7        2   \n3         1         0         0         0            7        3   \n4         0         0         0         1            7        3   \n\n   Transportation Expense  Distance to Work  Age  Daily Work Load Average  \\\n0                     289                36   33                  239.554   \n1                     118                13   50                  239.554   \n2                     179                51   38                  239.554   \n3                     279                 5   39                  239.554   \n4                     289                36   33                  239.554   \n\n   Body Mass Index  Education  Children  Pets  Absenteeism Time in Hours  \\\n0               30          0         2     1                          4   \n1               31          0         1     0                          0   \n2               31          0         0     0                          2   \n3               24          0         2     0                          4   \n4               30          0         2     1                          2   \n\n   Excessive Absenteeism  \n0                      1  \n1                      0  \n2                      0  \n3                      1  \n4                      0  ",
      "text/html": "<div>\n<style scoped>\n    .dataframe tbody tr th:only-of-type {\n        vertical-align: middle;\n    }\n\n    .dataframe tbody tr th {\n        vertical-align: top;\n    }\n\n    .dataframe thead th {\n        text-align: right;\n    }\n</style>\n<table border=\"1\" class=\"dataframe\">\n  <thead>\n    <tr style=\"text-align: right;\">\n      <th></th>\n      <th>Reason_1</th>\n      <th>Reason_2</th>\n      <th>Reason_3</th>\n      <th>Reason_4</th>\n      <th>Month Value</th>\n      <th>Weekday</th>\n      <th>Transportation Expense</th>\n      <th>Distance to Work</th>\n      <th>Age</th>\n      <th>Daily Work Load Average</th>\n      <th>Body Mass Index</th>\n      <th>Education</th>\n      <th>Children</th>\n      <th>Pets</th>\n      <th>Absenteeism Time in Hours</th>\n      <th>Excessive Absenteeism</th>\n    </tr>\n  </thead>\n  <tbody>\n    <tr>\n      <th>0</th>\n      <td>0</td>\n      <td>0</td>\n      <td>0</td>\n      <td>1</td>\n      <td>7</td>\n      <td>1</td>\n      <td>289</td>\n      <td>36</td>\n      <td>33</td>\n      <td>239.554</td>\n      <td>30</td>\n      <td>0</td>\n      <td>2</td>\n      <td>1</td>\n      <td>4</td>\n      <td>1</td>\n    </tr>\n    <tr>\n      <th>1</th>\n      <td>0</td>\n      <td>0</td>\n      <td>0</td>\n      <td>0</td>\n      <td>7</td>\n      <td>1</td>\n      <td>118</td>\n      <td>13</td>\n      <td>50</td>\n      <td>239.554</td>\n      <td>31</td>\n      <td>0</td>\n      <td>1</td>\n      <td>0</td>\n      <td>0</td>\n      <td>0</td>\n    </tr>\n    <tr>\n      <th>2</th>\n      <td>0</td>\n      <td>0</td>\n      <td>0</td>\n      <td>1</td>\n      <td>7</td>\n      <td>2</td>\n      <td>179</td>\n      <td>51</td>\n      <td>38</td>\n      <td>239.554</td>\n      <td>31</td>\n      <td>0</td>\n      <td>0</td>\n      <td>0</td>\n      <td>2</td>\n      <td>0</td>\n    </tr>\n    <tr>\n      <th>3</th>\n      <td>1</td>\n      <td>0</td>\n      <td>0</td>\n      <td>0</td>\n      <td>7</td>\n      <td>3</td>\n      <td>279</td>\n      <td>5</td>\n      <td>39</td>\n      <td>239.554</td>\n      <td>24</td>\n      <td>0</td>\n      <td>2</td>\n      <td>0</td>\n      <td>4</td>\n      <td>1</td>\n    </tr>\n    <tr>\n      <th>4</th>\n      <td>0</td>\n      <td>0</td>\n      <td>0</td>\n      <td>1</td>\n      <td>7</td>\n      <td>3</td>\n      <td>289</td>\n      <td>36</td>\n      <td>33</td>\n      <td>239.554</td>\n      <td>30</td>\n      <td>0</td>\n      <td>2</td>\n      <td>1</td>\n      <td>2</td>\n      <td>0</td>\n    </tr>\n  </tbody>\n</table>\n</div>"
     },
     "execution_count": 4,
     "metadata": {},
     "output_type": "execute_result"
    }
   ],
   "source": [
    "data_preprocessed['Excessive Absenteeism'] = targets\n",
    "data_preprocessed.head()"
   ],
   "metadata": {
    "collapsed": false
   }
  },
  {
   "cell_type": "code",
   "execution_count": 5,
   "outputs": [
    {
     "data": {
      "text/plain": "   Reason_1  Reason_2  Reason_3  Reason_4  Month Value  \\\n0         0         0         0         1            7   \n1         0         0         0         0            7   \n2         0         0         0         1            7   \n3         1         0         0         0            7   \n4         0         0         0         1            7   \n\n   Transportation Expense  Age  Body Mass Index  Education  Children  Pets  \\\n0                     289   33               30          0         2     1   \n1                     118   50               31          0         1     0   \n2                     179   38               31          0         0     0   \n3                     279   39               24          0         2     0   \n4                     289   33               30          0         2     1   \n\n   Excessive Absenteeism  \n0                      1  \n1                      0  \n2                      0  \n3                      1  \n4                      0  ",
      "text/html": "<div>\n<style scoped>\n    .dataframe tbody tr th:only-of-type {\n        vertical-align: middle;\n    }\n\n    .dataframe tbody tr th {\n        vertical-align: top;\n    }\n\n    .dataframe thead th {\n        text-align: right;\n    }\n</style>\n<table border=\"1\" class=\"dataframe\">\n  <thead>\n    <tr style=\"text-align: right;\">\n      <th></th>\n      <th>Reason_1</th>\n      <th>Reason_2</th>\n      <th>Reason_3</th>\n      <th>Reason_4</th>\n      <th>Month Value</th>\n      <th>Transportation Expense</th>\n      <th>Age</th>\n      <th>Body Mass Index</th>\n      <th>Education</th>\n      <th>Children</th>\n      <th>Pets</th>\n      <th>Excessive Absenteeism</th>\n    </tr>\n  </thead>\n  <tbody>\n    <tr>\n      <th>0</th>\n      <td>0</td>\n      <td>0</td>\n      <td>0</td>\n      <td>1</td>\n      <td>7</td>\n      <td>289</td>\n      <td>33</td>\n      <td>30</td>\n      <td>0</td>\n      <td>2</td>\n      <td>1</td>\n      <td>1</td>\n    </tr>\n    <tr>\n      <th>1</th>\n      <td>0</td>\n      <td>0</td>\n      <td>0</td>\n      <td>0</td>\n      <td>7</td>\n      <td>118</td>\n      <td>50</td>\n      <td>31</td>\n      <td>0</td>\n      <td>1</td>\n      <td>0</td>\n      <td>0</td>\n    </tr>\n    <tr>\n      <th>2</th>\n      <td>0</td>\n      <td>0</td>\n      <td>0</td>\n      <td>1</td>\n      <td>7</td>\n      <td>179</td>\n      <td>38</td>\n      <td>31</td>\n      <td>0</td>\n      <td>0</td>\n      <td>0</td>\n      <td>0</td>\n    </tr>\n    <tr>\n      <th>3</th>\n      <td>1</td>\n      <td>0</td>\n      <td>0</td>\n      <td>0</td>\n      <td>7</td>\n      <td>279</td>\n      <td>39</td>\n      <td>24</td>\n      <td>0</td>\n      <td>2</td>\n      <td>0</td>\n      <td>1</td>\n    </tr>\n    <tr>\n      <th>4</th>\n      <td>0</td>\n      <td>0</td>\n      <td>0</td>\n      <td>1</td>\n      <td>7</td>\n      <td>289</td>\n      <td>33</td>\n      <td>30</td>\n      <td>0</td>\n      <td>2</td>\n      <td>1</td>\n      <td>0</td>\n    </tr>\n  </tbody>\n</table>\n</div>"
     },
     "execution_count": 5,
     "metadata": {},
     "output_type": "execute_result"
    }
   ],
   "source": [
    "data_with_targets = data_preprocessed.drop(['Absenteeism Time in Hours', 'Weekday', 'Distance to Work','Daily Work Load Average'], axis=1)\n",
    "data_with_targets.head()"
   ],
   "metadata": {
    "collapsed": false
   }
  },
  {
   "cell_type": "markdown",
   "source": [
    "### Select inputs"
   ],
   "metadata": {
    "collapsed": false
   }
  },
  {
   "cell_type": "code",
   "execution_count": 6,
   "outputs": [],
   "source": [
    "unscaled_inputs = data_with_targets.iloc[:, :-1]"
   ],
   "metadata": {
    "collapsed": false
   }
  },
  {
   "cell_type": "markdown",
   "source": [
    "### Standardized the data"
   ],
   "metadata": {
    "collapsed": false
   }
  },
  {
   "cell_type": "code",
   "execution_count": 7,
   "outputs": [],
   "source": [
    "from sklearn.base import BaseEstimator, TransformerMixin\n",
    "\n",
    "from sklearn.preprocessing import StandardScaler\n",
    "\n",
    "\n",
    "\n",
    "class CustomScaler(BaseEstimator, TransformerMixin):\n",
    "\n",
    "\n",
    "\n",
    "    def __init__(self,columns):\n",
    "\n",
    "        self.scaler = StandardScaler()\n",
    "\n",
    "        self.columns = columns\n",
    "\n",
    "\n",
    "\n",
    "    def fit(self, X):\n",
    "\n",
    "        self.scaler.fit(X[self.columns])\n",
    "\n",
    "        return self\n",
    "\n",
    "\n",
    "\n",
    "    def transform(self, X):\n",
    "\n",
    "        init_col_order = X.columns\n",
    "\n",
    "        X_scaled = pd.DataFrame(self.scaler.transform(X[self.columns]), columns = self.columns)\n",
    "\n",
    "        X_not_scaled = X.loc[:,~X.columns.isin(self.columns)]\n",
    "\n",
    "        return pd.concat([X_not_scaled, X_scaled], axis = 1) [init_col_order]"
   ],
   "metadata": {
    "collapsed": false
   }
  },
  {
   "cell_type": "code",
   "execution_count": 8,
   "outputs": [],
   "source": [
    "columns_to_omit = ['Reason_1', 'Reason_2', 'Reason_3', 'Reason_4', 'Education']\n",
    "columns_to_scale = [x for x in unscaled_inputs.columns.values if x not in columns_to_omit]\n",
    "absenteeism_scaler = CustomScaler(columns_to_scale)"
   ],
   "metadata": {
    "collapsed": false
   }
  },
  {
   "cell_type": "code",
   "execution_count": 9,
   "outputs": [
    {
     "data": {
      "text/plain": "CustomScaler(columns=['Month Value', 'Transportation Expense', 'Age',\n                      'Body Mass Index', 'Children', 'Pets'])",
      "text/html": "<style>#sk-container-id-1 {color: black;background-color: white;}#sk-container-id-1 pre{padding: 0;}#sk-container-id-1 div.sk-toggleable {background-color: white;}#sk-container-id-1 label.sk-toggleable__label {cursor: pointer;display: block;width: 100%;margin-bottom: 0;padding: 0.3em;box-sizing: border-box;text-align: center;}#sk-container-id-1 label.sk-toggleable__label-arrow:before {content: \"▸\";float: left;margin-right: 0.25em;color: #696969;}#sk-container-id-1 label.sk-toggleable__label-arrow:hover:before {color: black;}#sk-container-id-1 div.sk-estimator:hover label.sk-toggleable__label-arrow:before {color: black;}#sk-container-id-1 div.sk-toggleable__content {max-height: 0;max-width: 0;overflow: hidden;text-align: left;background-color: #f0f8ff;}#sk-container-id-1 div.sk-toggleable__content pre {margin: 0.2em;color: black;border-radius: 0.25em;background-color: #f0f8ff;}#sk-container-id-1 input.sk-toggleable__control:checked~div.sk-toggleable__content {max-height: 200px;max-width: 100%;overflow: auto;}#sk-container-id-1 input.sk-toggleable__control:checked~label.sk-toggleable__label-arrow:before {content: \"▾\";}#sk-container-id-1 div.sk-estimator input.sk-toggleable__control:checked~label.sk-toggleable__label {background-color: #d4ebff;}#sk-container-id-1 div.sk-label input.sk-toggleable__control:checked~label.sk-toggleable__label {background-color: #d4ebff;}#sk-container-id-1 input.sk-hidden--visually {border: 0;clip: rect(1px 1px 1px 1px);clip: rect(1px, 1px, 1px, 1px);height: 1px;margin: -1px;overflow: hidden;padding: 0;position: absolute;width: 1px;}#sk-container-id-1 div.sk-estimator {font-family: monospace;background-color: #f0f8ff;border: 1px dotted black;border-radius: 0.25em;box-sizing: border-box;margin-bottom: 0.5em;}#sk-container-id-1 div.sk-estimator:hover {background-color: #d4ebff;}#sk-container-id-1 div.sk-parallel-item::after {content: \"\";width: 100%;border-bottom: 1px solid gray;flex-grow: 1;}#sk-container-id-1 div.sk-label:hover label.sk-toggleable__label {background-color: #d4ebff;}#sk-container-id-1 div.sk-serial::before {content: \"\";position: absolute;border-left: 1px solid gray;box-sizing: border-box;top: 0;bottom: 0;left: 50%;z-index: 0;}#sk-container-id-1 div.sk-serial {display: flex;flex-direction: column;align-items: center;background-color: white;padding-right: 0.2em;padding-left: 0.2em;position: relative;}#sk-container-id-1 div.sk-item {position: relative;z-index: 1;}#sk-container-id-1 div.sk-parallel {display: flex;align-items: stretch;justify-content: center;background-color: white;position: relative;}#sk-container-id-1 div.sk-item::before, #sk-container-id-1 div.sk-parallel-item::before {content: \"\";position: absolute;border-left: 1px solid gray;box-sizing: border-box;top: 0;bottom: 0;left: 50%;z-index: -1;}#sk-container-id-1 div.sk-parallel-item {display: flex;flex-direction: column;z-index: 1;position: relative;background-color: white;}#sk-container-id-1 div.sk-parallel-item:first-child::after {align-self: flex-end;width: 50%;}#sk-container-id-1 div.sk-parallel-item:last-child::after {align-self: flex-start;width: 50%;}#sk-container-id-1 div.sk-parallel-item:only-child::after {width: 0;}#sk-container-id-1 div.sk-dashed-wrapped {border: 1px dashed gray;margin: 0 0.4em 0.5em 0.4em;box-sizing: border-box;padding-bottom: 0.4em;background-color: white;}#sk-container-id-1 div.sk-label label {font-family: monospace;font-weight: bold;display: inline-block;line-height: 1.2em;}#sk-container-id-1 div.sk-label-container {text-align: center;}#sk-container-id-1 div.sk-container {/* jupyter's `normalize.less` sets `[hidden] { display: none; }` but bootstrap.min.css set `[hidden] { display: none !important; }` so we also need the `!important` here to be able to override the default hidden behavior on the sphinx rendered scikit-learn.org. See: https://github.com/scikit-learn/scikit-learn/issues/21755 */display: inline-block !important;position: relative;}#sk-container-id-1 div.sk-text-repr-fallback {display: none;}</style><div id=\"sk-container-id-1\" class=\"sk-top-container\"><div class=\"sk-text-repr-fallback\"><pre>CustomScaler(columns=[&#x27;Month Value&#x27;, &#x27;Transportation Expense&#x27;, &#x27;Age&#x27;,\n                      &#x27;Body Mass Index&#x27;, &#x27;Children&#x27;, &#x27;Pets&#x27;])</pre><b>In a Jupyter environment, please rerun this cell to show the HTML representation or trust the notebook. <br />On GitHub, the HTML representation is unable to render, please try loading this page with nbviewer.org.</b></div><div class=\"sk-container\" hidden><div class=\"sk-item\"><div class=\"sk-estimator sk-toggleable\"><input class=\"sk-toggleable__control sk-hidden--visually\" id=\"sk-estimator-id-1\" type=\"checkbox\" checked><label for=\"sk-estimator-id-1\" class=\"sk-toggleable__label sk-toggleable__label-arrow\">CustomScaler</label><div class=\"sk-toggleable__content\"><pre>CustomScaler(columns=[&#x27;Month Value&#x27;, &#x27;Transportation Expense&#x27;, &#x27;Age&#x27;,\n                      &#x27;Body Mass Index&#x27;, &#x27;Children&#x27;, &#x27;Pets&#x27;])</pre></div></div></div></div></div>"
     },
     "execution_count": 9,
     "metadata": {},
     "output_type": "execute_result"
    }
   ],
   "source": [
    "absenteeism_scaler.fit(unscaled_inputs)"
   ],
   "metadata": {
    "collapsed": false
   }
  },
  {
   "cell_type": "code",
   "execution_count": 10,
   "outputs": [],
   "source": [
    "scaled_inputs = absenteeism_scaler.transform(unscaled_inputs)"
   ],
   "metadata": {
    "collapsed": false
   }
  },
  {
   "cell_type": "markdown",
   "source": [
    "### Split data into train & test"
   ],
   "metadata": {
    "collapsed": false
   }
  },
  {
   "cell_type": "code",
   "execution_count": 11,
   "outputs": [],
   "source": [
    "from sklearn.model_selection import train_test_split\n",
    "\n",
    "x_train, x_test, y_train, y_test = train_test_split(scaled_inputs, targets, train_size=0.8, random_state=20)"
   ],
   "metadata": {
    "collapsed": false
   }
  },
  {
   "cell_type": "markdown",
   "source": [
    "# Logistic Regression"
   ],
   "metadata": {
    "collapsed": false
   }
  },
  {
   "cell_type": "code",
   "execution_count": 12,
   "outputs": [],
   "source": [
    "from sklearn.linear_model import LogisticRegression\n",
    "from sklearn import metrics"
   ],
   "metadata": {
    "collapsed": false
   }
  },
  {
   "cell_type": "markdown",
   "source": [
    "### Model"
   ],
   "metadata": {
    "collapsed": false
   }
  },
  {
   "cell_type": "code",
   "execution_count": 13,
   "outputs": [
    {
     "data": {
      "text/plain": "LogisticRegression()",
      "text/html": "<style>#sk-container-id-2 {color: black;background-color: white;}#sk-container-id-2 pre{padding: 0;}#sk-container-id-2 div.sk-toggleable {background-color: white;}#sk-container-id-2 label.sk-toggleable__label {cursor: pointer;display: block;width: 100%;margin-bottom: 0;padding: 0.3em;box-sizing: border-box;text-align: center;}#sk-container-id-2 label.sk-toggleable__label-arrow:before {content: \"▸\";float: left;margin-right: 0.25em;color: #696969;}#sk-container-id-2 label.sk-toggleable__label-arrow:hover:before {color: black;}#sk-container-id-2 div.sk-estimator:hover label.sk-toggleable__label-arrow:before {color: black;}#sk-container-id-2 div.sk-toggleable__content {max-height: 0;max-width: 0;overflow: hidden;text-align: left;background-color: #f0f8ff;}#sk-container-id-2 div.sk-toggleable__content pre {margin: 0.2em;color: black;border-radius: 0.25em;background-color: #f0f8ff;}#sk-container-id-2 input.sk-toggleable__control:checked~div.sk-toggleable__content {max-height: 200px;max-width: 100%;overflow: auto;}#sk-container-id-2 input.sk-toggleable__control:checked~label.sk-toggleable__label-arrow:before {content: \"▾\";}#sk-container-id-2 div.sk-estimator input.sk-toggleable__control:checked~label.sk-toggleable__label {background-color: #d4ebff;}#sk-container-id-2 div.sk-label input.sk-toggleable__control:checked~label.sk-toggleable__label {background-color: #d4ebff;}#sk-container-id-2 input.sk-hidden--visually {border: 0;clip: rect(1px 1px 1px 1px);clip: rect(1px, 1px, 1px, 1px);height: 1px;margin: -1px;overflow: hidden;padding: 0;position: absolute;width: 1px;}#sk-container-id-2 div.sk-estimator {font-family: monospace;background-color: #f0f8ff;border: 1px dotted black;border-radius: 0.25em;box-sizing: border-box;margin-bottom: 0.5em;}#sk-container-id-2 div.sk-estimator:hover {background-color: #d4ebff;}#sk-container-id-2 div.sk-parallel-item::after {content: \"\";width: 100%;border-bottom: 1px solid gray;flex-grow: 1;}#sk-container-id-2 div.sk-label:hover label.sk-toggleable__label {background-color: #d4ebff;}#sk-container-id-2 div.sk-serial::before {content: \"\";position: absolute;border-left: 1px solid gray;box-sizing: border-box;top: 0;bottom: 0;left: 50%;z-index: 0;}#sk-container-id-2 div.sk-serial {display: flex;flex-direction: column;align-items: center;background-color: white;padding-right: 0.2em;padding-left: 0.2em;position: relative;}#sk-container-id-2 div.sk-item {position: relative;z-index: 1;}#sk-container-id-2 div.sk-parallel {display: flex;align-items: stretch;justify-content: center;background-color: white;position: relative;}#sk-container-id-2 div.sk-item::before, #sk-container-id-2 div.sk-parallel-item::before {content: \"\";position: absolute;border-left: 1px solid gray;box-sizing: border-box;top: 0;bottom: 0;left: 50%;z-index: -1;}#sk-container-id-2 div.sk-parallel-item {display: flex;flex-direction: column;z-index: 1;position: relative;background-color: white;}#sk-container-id-2 div.sk-parallel-item:first-child::after {align-self: flex-end;width: 50%;}#sk-container-id-2 div.sk-parallel-item:last-child::after {align-self: flex-start;width: 50%;}#sk-container-id-2 div.sk-parallel-item:only-child::after {width: 0;}#sk-container-id-2 div.sk-dashed-wrapped {border: 1px dashed gray;margin: 0 0.4em 0.5em 0.4em;box-sizing: border-box;padding-bottom: 0.4em;background-color: white;}#sk-container-id-2 div.sk-label label {font-family: monospace;font-weight: bold;display: inline-block;line-height: 1.2em;}#sk-container-id-2 div.sk-label-container {text-align: center;}#sk-container-id-2 div.sk-container {/* jupyter's `normalize.less` sets `[hidden] { display: none; }` but bootstrap.min.css set `[hidden] { display: none !important; }` so we also need the `!important` here to be able to override the default hidden behavior on the sphinx rendered scikit-learn.org. See: https://github.com/scikit-learn/scikit-learn/issues/21755 */display: inline-block !important;position: relative;}#sk-container-id-2 div.sk-text-repr-fallback {display: none;}</style><div id=\"sk-container-id-2\" class=\"sk-top-container\"><div class=\"sk-text-repr-fallback\"><pre>LogisticRegression()</pre><b>In a Jupyter environment, please rerun this cell to show the HTML representation or trust the notebook. <br />On GitHub, the HTML representation is unable to render, please try loading this page with nbviewer.org.</b></div><div class=\"sk-container\" hidden><div class=\"sk-item\"><div class=\"sk-estimator sk-toggleable\"><input class=\"sk-toggleable__control sk-hidden--visually\" id=\"sk-estimator-id-2\" type=\"checkbox\" checked><label for=\"sk-estimator-id-2\" class=\"sk-toggleable__label sk-toggleable__label-arrow\">LogisticRegression</label><div class=\"sk-toggleable__content\"><pre>LogisticRegression()</pre></div></div></div></div></div>"
     },
     "execution_count": 13,
     "metadata": {},
     "output_type": "execute_result"
    }
   ],
   "source": [
    "reg = LogisticRegression()\n",
    "reg.fit(x_train, y_train)"
   ],
   "metadata": {
    "collapsed": false
   }
  },
  {
   "cell_type": "code",
   "execution_count": 14,
   "outputs": [
    {
     "data": {
      "text/plain": "0.7732142857142857"
     },
     "execution_count": 14,
     "metadata": {},
     "output_type": "execute_result"
    }
   ],
   "source": [
    "reg.score(x_train, y_train)"
   ],
   "metadata": {
    "collapsed": false
   }
  },
  {
   "cell_type": "markdown",
   "source": [
    "### Checking accuracy"
   ],
   "metadata": {
    "collapsed": false
   }
  },
  {
   "cell_type": "code",
   "execution_count": 15,
   "outputs": [
    {
     "data": {
      "text/plain": "0.7732142857142857"
     },
     "execution_count": 15,
     "metadata": {},
     "output_type": "execute_result"
    }
   ],
   "source": [
    "model_outputs = reg.predict(x_train)\n",
    "np.sum(model_outputs == y_train)/model_outputs.shape[0]"
   ],
   "metadata": {
    "collapsed": false
   }
  },
  {
   "cell_type": "markdown",
   "source": [
    "### Intercept and Coefficients"
   ],
   "metadata": {
    "collapsed": false
   }
  },
  {
   "cell_type": "code",
   "execution_count": 16,
   "outputs": [],
   "source": [
    "feature_name = unscaled_inputs.columns.values"
   ],
   "metadata": {
    "collapsed": false
   }
  },
  {
   "cell_type": "code",
   "execution_count": 17,
   "outputs": [
    {
     "data": {
      "text/plain": "              Feature name  Coefficient\n0                Intercept    -1.647455\n1                 Reason_1     2.800197\n2                 Reason_2     0.951884\n3                 Reason_3     3.115553\n4                 Reason_4     0.839001\n5              Month Value     0.158930\n6   Transportation Expense     0.605284\n7                      Age    -0.169891\n8          Body Mass Index     0.279811\n9                Education    -0.210533\n10                Children     0.348262\n11                    Pets    -0.277396",
      "text/html": "<div>\n<style scoped>\n    .dataframe tbody tr th:only-of-type {\n        vertical-align: middle;\n    }\n\n    .dataframe tbody tr th {\n        vertical-align: top;\n    }\n\n    .dataframe thead th {\n        text-align: right;\n    }\n</style>\n<table border=\"1\" class=\"dataframe\">\n  <thead>\n    <tr style=\"text-align: right;\">\n      <th></th>\n      <th>Feature name</th>\n      <th>Coefficient</th>\n    </tr>\n  </thead>\n  <tbody>\n    <tr>\n      <th>0</th>\n      <td>Intercept</td>\n      <td>-1.647455</td>\n    </tr>\n    <tr>\n      <th>1</th>\n      <td>Reason_1</td>\n      <td>2.800197</td>\n    </tr>\n    <tr>\n      <th>2</th>\n      <td>Reason_2</td>\n      <td>0.951884</td>\n    </tr>\n    <tr>\n      <th>3</th>\n      <td>Reason_3</td>\n      <td>3.115553</td>\n    </tr>\n    <tr>\n      <th>4</th>\n      <td>Reason_4</td>\n      <td>0.839001</td>\n    </tr>\n    <tr>\n      <th>5</th>\n      <td>Month Value</td>\n      <td>0.158930</td>\n    </tr>\n    <tr>\n      <th>6</th>\n      <td>Transportation Expense</td>\n      <td>0.605284</td>\n    </tr>\n    <tr>\n      <th>7</th>\n      <td>Age</td>\n      <td>-0.169891</td>\n    </tr>\n    <tr>\n      <th>8</th>\n      <td>Body Mass Index</td>\n      <td>0.279811</td>\n    </tr>\n    <tr>\n      <th>9</th>\n      <td>Education</td>\n      <td>-0.210533</td>\n    </tr>\n    <tr>\n      <th>10</th>\n      <td>Children</td>\n      <td>0.348262</td>\n    </tr>\n    <tr>\n      <th>11</th>\n      <td>Pets</td>\n      <td>-0.277396</td>\n    </tr>\n  </tbody>\n</table>\n</div>"
     },
     "execution_count": 17,
     "metadata": {},
     "output_type": "execute_result"
    }
   ],
   "source": [
    "summary_table = pd.DataFrame(columns=['Feature name'], data=feature_name)\n",
    "summary_table['Coefficient'] = np.transpose(reg.coef_)\n",
    "\n",
    "summary_table.index = summary_table.index + 1\n",
    "summary_table.loc[0] = ['Intercept', reg.intercept_[0]]\n",
    "summary_table = summary_table.sort_index()\n",
    "summary_table"
   ],
   "metadata": {
    "collapsed": false
   }
  },
  {
   "cell_type": "code",
   "execution_count": 18,
   "outputs": [
    {
     "data": {
      "text/plain": "              Feature name  Coefficient  Odds_ratio\n0                Intercept    -1.647455    0.192539\n1                 Reason_1     2.800197   16.447892\n2                 Reason_2     0.951884    2.590585\n3                 Reason_3     3.115553   22.545903\n4                 Reason_4     0.839001    2.314054\n5              Month Value     0.158930    1.172256\n6   Transportation Expense     0.605284    1.831773\n7                      Age    -0.169891    0.843757\n8          Body Mass Index     0.279811    1.322880\n9                Education    -0.210533    0.810152\n10                Children     0.348262    1.416604\n11                    Pets    -0.277396    0.757754",
      "text/html": "<div>\n<style scoped>\n    .dataframe tbody tr th:only-of-type {\n        vertical-align: middle;\n    }\n\n    .dataframe tbody tr th {\n        vertical-align: top;\n    }\n\n    .dataframe thead th {\n        text-align: right;\n    }\n</style>\n<table border=\"1\" class=\"dataframe\">\n  <thead>\n    <tr style=\"text-align: right;\">\n      <th></th>\n      <th>Feature name</th>\n      <th>Coefficient</th>\n      <th>Odds_ratio</th>\n    </tr>\n  </thead>\n  <tbody>\n    <tr>\n      <th>0</th>\n      <td>Intercept</td>\n      <td>-1.647455</td>\n      <td>0.192539</td>\n    </tr>\n    <tr>\n      <th>1</th>\n      <td>Reason_1</td>\n      <td>2.800197</td>\n      <td>16.447892</td>\n    </tr>\n    <tr>\n      <th>2</th>\n      <td>Reason_2</td>\n      <td>0.951884</td>\n      <td>2.590585</td>\n    </tr>\n    <tr>\n      <th>3</th>\n      <td>Reason_3</td>\n      <td>3.115553</td>\n      <td>22.545903</td>\n    </tr>\n    <tr>\n      <th>4</th>\n      <td>Reason_4</td>\n      <td>0.839001</td>\n      <td>2.314054</td>\n    </tr>\n    <tr>\n      <th>5</th>\n      <td>Month Value</td>\n      <td>0.158930</td>\n      <td>1.172256</td>\n    </tr>\n    <tr>\n      <th>6</th>\n      <td>Transportation Expense</td>\n      <td>0.605284</td>\n      <td>1.831773</td>\n    </tr>\n    <tr>\n      <th>7</th>\n      <td>Age</td>\n      <td>-0.169891</td>\n      <td>0.843757</td>\n    </tr>\n    <tr>\n      <th>8</th>\n      <td>Body Mass Index</td>\n      <td>0.279811</td>\n      <td>1.322880</td>\n    </tr>\n    <tr>\n      <th>9</th>\n      <td>Education</td>\n      <td>-0.210533</td>\n      <td>0.810152</td>\n    </tr>\n    <tr>\n      <th>10</th>\n      <td>Children</td>\n      <td>0.348262</td>\n      <td>1.416604</td>\n    </tr>\n    <tr>\n      <th>11</th>\n      <td>Pets</td>\n      <td>-0.277396</td>\n      <td>0.757754</td>\n    </tr>\n  </tbody>\n</table>\n</div>"
     },
     "execution_count": 18,
     "metadata": {},
     "output_type": "execute_result"
    }
   ],
   "source": [
    "summary_table['Odds_ratio'] = np.exp(summary_table.Coefficient)\n",
    "summary_table"
   ],
   "metadata": {
    "collapsed": false
   }
  },
  {
   "cell_type": "markdown",
   "source": [
    "### TESTING"
   ],
   "metadata": {
    "collapsed": false
   }
  },
  {
   "cell_type": "code",
   "execution_count": 19,
   "outputs": [
    {
     "data": {
      "text/plain": "0.75"
     },
     "execution_count": 19,
     "metadata": {},
     "output_type": "execute_result"
    }
   ],
   "source": [
    "reg.score(x_test, y_test)"
   ],
   "metadata": {
    "collapsed": false
   }
  },
  {
   "cell_type": "code",
   "execution_count": 20,
   "outputs": [
    {
     "data": {
      "text/plain": "array([[0.71340413, 0.28659587],\n       [0.58724228, 0.41275772],\n       [0.44020821, 0.55979179],\n       [0.78159464, 0.21840536],\n       [0.08410854, 0.91589146],\n       [0.33487603, 0.66512397],\n       [0.29984576, 0.70015424],\n       [0.13103971, 0.86896029],\n       [0.78625404, 0.21374596],\n       [0.74903632, 0.25096368],\n       [0.49397598, 0.50602402],\n       [0.22484913, 0.77515087],\n       [0.07129151, 0.92870849],\n       [0.73178133, 0.26821867],\n       [0.30934135, 0.69065865],\n       [0.5471671 , 0.4528329 ],\n       [0.55052275, 0.44947725],\n       [0.5392707 , 0.4607293 ],\n       [0.40201117, 0.59798883],\n       [0.05361575, 0.94638425],\n       [0.7003009 , 0.2996991 ],\n       [0.78159464, 0.21840536],\n       [0.42037128, 0.57962872],\n       [0.42037128, 0.57962872],\n       [0.24783565, 0.75216435],\n       [0.74566259, 0.25433741],\n       [0.51017274, 0.48982726],\n       [0.85690195, 0.14309805],\n       [0.20349733, 0.79650267],\n       [0.78159464, 0.21840536],\n       [0.63043442, 0.36956558],\n       [0.32093965, 0.67906035],\n       [0.31497433, 0.68502567],\n       [0.47131917, 0.52868083],\n       [0.78159464, 0.21840536],\n       [0.46493449, 0.53506551],\n       [0.77852919, 0.22147081],\n       [0.26307895, 0.73692105],\n       [0.59501956, 0.40498044],\n       [0.39494012, 0.60505988],\n       [0.78924152, 0.21075848],\n       [0.54775534, 0.45224466],\n       [0.76248708, 0.23751292],\n       [0.60166502, 0.39833498],\n       [0.17244553, 0.82755447],\n       [0.43202425, 0.56797575],\n       [0.30886675, 0.69113325],\n       [0.71340413, 0.28659587],\n       [0.78064733, 0.21935267],\n       [0.7966903 , 0.2033097 ],\n       [0.42371744, 0.57628256],\n       [0.6705336 , 0.3294664 ],\n       [0.33487603, 0.66512397],\n       [0.73050501, 0.26949499],\n       [0.16678032, 0.83321968],\n       [0.56508475, 0.43491525],\n       [0.11625388, 0.88374612],\n       [0.76872928, 0.23127072],\n       [0.66584142, 0.33415858],\n       [0.65567061, 0.34432939],\n       [0.30090655, 0.69909345],\n       [0.34505737, 0.65494263],\n       [0.70755059, 0.29244941],\n       [0.20799242, 0.79200758],\n       [0.79249724, 0.20750276],\n       [0.73159442, 0.26840558],\n       [0.91291434, 0.08708566],\n       [0.77852919, 0.22147081],\n       [0.26754583, 0.73245417],\n       [0.69469781, 0.30530219],\n       [0.77852919, 0.22147081],\n       [0.70985592, 0.29014408],\n       [0.09561809, 0.90438191],\n       [0.53938703, 0.46061297],\n       [0.39825313, 0.60174687],\n       [0.78159464, 0.21840536],\n       [0.22645293, 0.77354707],\n       [0.26837292, 0.73162708],\n       [0.25831165, 0.74168835],\n       [0.32855571, 0.67144429],\n       [0.75417184, 0.24582816],\n       [0.92387058, 0.07612942],\n       [0.76872928, 0.23127072],\n       [0.24741155, 0.75258845],\n       [0.56558369, 0.43441631],\n       [0.87775043, 0.12224957],\n       [0.29572951, 0.70427049],\n       [0.42037128, 0.57962872],\n       [0.75881641, 0.24118359],\n       [0.32093965, 0.67906035],\n       [0.82488593, 0.17511407],\n       [0.84950183, 0.15049817],\n       [0.77374985, 0.22625015],\n       [0.73159442, 0.26840558],\n       [0.74903632, 0.25096368],\n       [0.14944055, 0.85055945],\n       [0.70403751, 0.29596249],\n       [0.23713867, 0.76286133],\n       [0.75645005, 0.24354995],\n       [0.78203264, 0.21796736],\n       [0.37671823, 0.62328177],\n       [0.32093965, 0.67906035],\n       [0.30409309, 0.69590691],\n       [0.25542876, 0.74457124],\n       [0.55063861, 0.44936139],\n       [0.51677447, 0.48322553],\n       [0.72259112, 0.27740888],\n       [0.14944055, 0.85055945],\n       [0.2220274 , 0.7779726 ],\n       [0.85521156, 0.14478844],\n       [0.93001302, 0.06998698],\n       [0.09640551, 0.90359449],\n       [0.33736668, 0.66263332],\n       [0.66154998, 0.33845002],\n       [0.47623876, 0.52376124],\n       [0.43903262, 0.56096738],\n       [0.21378105, 0.78621895],\n       [0.17783793, 0.82216207],\n       [0.45811539, 0.54188461],\n       [0.6906917 , 0.3093083 ],\n       [0.74041049, 0.25958951],\n       [0.8393858 , 0.1606142 ],\n       [0.18777875, 0.81222125],\n       [0.54775534, 0.45224466],\n       [0.78159464, 0.21840536],\n       [0.64457904, 0.35542096],\n       [0.78924152, 0.21075848],\n       [0.89029009, 0.10970991],\n       [0.25937462, 0.74062538],\n       [0.7003009 , 0.2996991 ],\n       [0.38415023, 0.61584977],\n       [0.78924152, 0.21075848],\n       [0.70403751, 0.29596249],\n       [0.64457904, 0.35542096],\n       [0.73490357, 0.26509643],\n       [0.47623876, 0.52376124],\n       [0.5392707 , 0.4607293 ],\n       [0.68498978, 0.31501022],\n       [0.75645005, 0.24354995],\n       [0.53938703, 0.46061297]])"
     },
     "execution_count": 20,
     "metadata": {},
     "output_type": "execute_result"
    }
   ],
   "source": [
    "predicted_proba = reg.predict_proba(x_test)\n",
    "predicted_proba"
   ],
   "metadata": {
    "collapsed": false
   }
  },
  {
   "cell_type": "markdown",
   "source": [
    "### Save the model"
   ],
   "metadata": {
    "collapsed": false
   }
  },
  {
   "cell_type": "code",
   "execution_count": 21,
   "outputs": [],
   "source": [
    "import pickle"
   ],
   "metadata": {
    "collapsed": false
   }
  },
  {
   "cell_type": "code",
   "execution_count": 22,
   "outputs": [],
   "source": [
    "with open('model', 'wb') as file:\n",
    "    pickle.dump(reg, file)"
   ],
   "metadata": {
    "collapsed": false
   }
  },
  {
   "cell_type": "code",
   "execution_count": 23,
   "outputs": [],
   "source": [
    "with open('scaler', 'wb') as file:\n",
    "    pickle.dump(absenteeism_scaler, file)"
   ],
   "metadata": {
    "collapsed": false
   }
  }
 ],
 "metadata": {
  "kernelspec": {
   "display_name": "Python 3",
   "language": "python",
   "name": "python3"
  },
  "language_info": {
   "codemirror_mode": {
    "name": "ipython",
    "version": 2
   },
   "file_extension": ".py",
   "mimetype": "text/x-python",
   "name": "python",
   "nbconvert_exporter": "python",
   "pygments_lexer": "ipython2",
   "version": "2.7.6"
  }
 },
 "nbformat": 4,
 "nbformat_minor": 0
}
